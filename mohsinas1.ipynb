{
 "cells": [
  {
   "cell_type": "code",
   "execution_count": 1,
   "metadata": {},
   "outputs": [
    {
     "name": "stdout",
     "output_type": "stream",
     "text": [
      "Twinkle, twinkle, little star,\n",
      "      How I wonder what you are!\n",
      "            Up above the world so high,\n",
      "            Like a diamond in the sky\n",
      "Twinkle, twinkle, little star,\n",
      "      How I wonder what you are!\n",
      "\n"
     ]
    }
   ],
   "source": [
    "#Question 1\n",
    "a = \"Twinkle, twinkle, little star,\\n\"\n",
    "b = \"      How I wonder what you are!\\n\"\n",
    "c = \"            Up above the world so high,\\n\"                  #NAME: MOHSIN IQBAL SIAL\n",
    "d = \"            Like a diamond in the sky\\n\"\n",
    "e = \"Twinkle, twinkle, little star,\\n\"\n",
    "f = \"      How I wonder what you are!\\n\"\n",
    "g = a+b+c+d+e+f\n",
    "print (g)"
   ]
  },
  {
   "cell_type": "code",
   "execution_count": 2,
   "metadata": {},
   "outputs": [
    {
     "name": "stdout",
     "output_type": "stream",
     "text": [
      "Python 3.7 Version \n"
     ]
    }
   ],
   "source": [
    "#Question 2\n",
    "a= \"Python\"                               \n",
    "b= \" 3.7 Version \"\n",
    "c=a+b\n",
    "print(c)\n",
    "\n",
    "\n",
    "\n",
    "\n"
   ]
  },
  {
   "cell_type": "code",
   "execution_count": 13,
   "metadata": {},
   "outputs": [
    {
     "name": "stdout",
     "output_type": "stream",
     "text": [
      "Current date and time: \n",
      "2019-11-04 20:36:19.051770\n"
     ]
    }
   ],
   "source": [
    "#Question 3\n",
    "import datetime\n",
    "now = datetime.datetime.now()\n",
    "print(\"Current date and time: \")\n",
    "print(str(now))"
   ]
  },
  {
   "cell_type": "code",
   "execution_count": 9,
   "metadata": {},
   "outputs": [
    {
     "name": "stdout",
     "output_type": "stream",
     "text": [
      "enter radius of a circle12\n",
      "area of a circle: 452.47968000000003\n"
     ]
    }
   ],
   "source": [
    "#Question 4\n",
    "r= float(input(\"enter radius of a circle\"))\n",
    "pi=3.14222\n",
    "area = pi*float(r**2)\n",
    "print(\"area of a circle:\",area)"
   ]
  },
  {
   "cell_type": "code",
   "execution_count": 10,
   "metadata": {},
   "outputs": [
    {
     "name": "stdout",
     "output_type": "stream",
     "text": [
      " enter your first name MOHSIN\n",
      " enter your last name IQBAL SIAL\n",
      "IQBAL SIAL MOHSIN\n"
     ]
    }
   ],
   "source": [
    "#Question 5\n",
    "first_name = input (\" enter your first name \")\n",
    "last_name = input (\" enter your last name \")\n",
    "print (last_name + \" \" + first_name)\n"
   ]
  },
  {
   "cell_type": "code",
   "execution_count": 11,
   "metadata": {},
   "outputs": [
    {
     "name": "stdout",
     "output_type": "stream",
     "text": [
      " enter your first number 19\n",
      " enter your second number 50\n",
      "69\n"
     ]
    }
   ],
   "source": [
    "#Question 6\n",
    "x = int(input (\" enter your first number \"))\n",
    "y = int(input (\" enter your second number \")) \n",
    "z= x+y\n",
    "print (z)\n",
    "\n",
    "\n"
   ]
  },
  {
   "cell_type": "code",
   "execution_count": 15,
   "metadata": {},
   "outputs": [
    {
     "name": "stdout",
     "output_type": "stream",
     "text": [
      "enter your PERCENTAGE=34\n",
      "failed\n"
     ]
    }
   ],
   "source": [
    "#Question 7\n",
    "per=float(input(\"enter your PERCENTAGE=\"))\n",
    "if per>=80 and per<=100 :\n",
    "    print(\"A+\")\n",
    "elif per>=70 and per<=80 :\n",
    "    print(\"A\")\n",
    "elif per>=60 and per<=70 :\n",
    "    print(\"B\")\n",
    "elif per>=50 and per<=60 :\n",
    "    print(\"C\")\n",
    "elif per>=40 and per<=40 :\n",
    "    print(\"D\")\n",
    "elif per<=40 :\n",
    "    print(\"failed\")\n",
    "else :\n",
    "    print(\"you've entered inappropriate percentage\")"
   ]
  },
  {
   "cell_type": "code",
   "execution_count": null,
   "metadata": {},
   "outputs": [],
   "source": []
  },
  {
   "cell_type": "code",
   "execution_count": null,
   "metadata": {},
   "outputs": [],
   "source": []
  }
 ],
 "metadata": {
  "kernelspec": {
   "display_name": "Python 3",
   "language": "python",
   "name": "python3"
  },
  "language_info": {
   "codemirror_mode": {
    "name": "ipython",
    "version": 3
   },
   "file_extension": ".py",
   "mimetype": "text/x-python",
   "name": "python",
   "nbconvert_exporter": "python",
   "pygments_lexer": "ipython3",
   "version": "3.7.4"
  }
 },
 "nbformat": 4,
 "nbformat_minor": 2
}
