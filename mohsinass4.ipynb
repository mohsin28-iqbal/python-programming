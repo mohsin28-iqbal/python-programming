{
 "cells": [
  {
   "cell_type": "code",
   "execution_count": 1,
   "metadata": {},
   "outputs": [
    {
     "name": "stdout",
     "output_type": "stream",
     "text": [
      "Dictionary\n",
      "\n",
      "{'first_name': 'Mohsin', 'last_name': 'Iqbal', 'age': 20, 'city': 'Karachi'} \n",
      "\n",
      "\n",
      "Enter your Qualification: Intermediate\n",
      "\n",
      "Dictionary new key\n",
      "\n",
      "\n",
      " {'first_name': 'Mohsin', 'last_name': 'Iqbal', 'age': 20, 'city': 'Karachi', 'Qualification': 'Intermediate'}\n",
      "\n",
      "Enter your Higher Academic Level: Undergraduate BE telecom\n",
      "\n",
      "Updated Dictionary\n",
      "\n",
      "\n",
      " {'first_name': 'Mohsin', 'last_name': 'Iqbal', 'age': 20, 'city': 'Karachi', 'Qualification': 'Undergraduate BE telecom'}\n",
      "\n",
      "Delete updated Dictionary\n",
      "\n",
      "\n",
      " {'first_name': 'Mohsin', 'last_name': 'Iqbal', 'age': 20, 'city': 'Karachi'}\n"
     ]
    }
   ],
   "source": [
    "#Question#01\n",
    "print(\"Dictionary\\n\")\n",
    "data = {\n",
    "    \"first_name\": \"Mohsin\",\n",
    "    \"last_name\": \"Iqbal\",\n",
    "    \"age\": 20,\n",
    "    \"city\": \"Karachi\"\n",
    "}\n",
    "print(data,\"\\n\")\n",
    "add = input(\"\\nEnter your Qualification: \")\n",
    "data[\"Qualification\"] = add\n",
    "print(\"\\nDictionary new key\\n\")\n",
    "print(\"\\n\",data)\n",
    "update = input(\"\\nEnter your Higher Academic Level: \")\n",
    "data[\"Qualification\"] = update\n",
    "print(\"\\nUpdated Dictionary\\n\")\n",
    "print(\"\\n\",data)\n",
    "del data[\"Qualification\"]\n",
    "print(\"\\nDelete updated Dictionary\\n\")\n",
    "print(\"\\n\",data)\n"
   ]
  },
  {
   "cell_type": "code",
   "execution_count": 2,
   "metadata": {},
   "outputs": [
    {
     "name": "stdout",
     "output_type": "stream",
     "text": [
      "Name of city:  Karachi\n",
      "Information:  {'Population': '16 million', 'Fact': 'The city of lights', 'Country': 'Pakistan'} \n",
      "\n",
      "Name of city:  Rio de janeiro\n",
      "Information:  {'Population': '7 million', 'Fact': 'The city of God', 'Country': 'Brazil'} \n",
      "\n",
      "Name of city:  Bern\n",
      "Information:  {'Population': '1.031 million', 'Fact': 'Heaven on Earth', 'Country': 'Switzerland'} \n",
      "\n"
     ]
    }
   ],
   "source": [
    "#Question#02\n",
    "cities = {\n",
    "    \"Karachi\": {\n",
    "        \"Population\": \"16 million\",\n",
    "        \"Fact\": \"The city of lights\",\n",
    "        \"Country\": \"Pakistan\"\n",
    "    },\n",
    "    \"Rio de janeiro\": {\n",
    "        \"Population\": \"7 million\",\n",
    "        \"Fact\": \"The city of God\",\n",
    "        \"Country\": \"Brazil\"\n",
    "    },\n",
    "    \"Bern\": {\n",
    "        \"Population\": \"1.031 million\",\n",
    "        \"Fact\": \"Heaven on Earth\",\n",
    "        \"Country\": \"Switzerland\"\n",
    "    }\n",
    "}\n",
    "for key,value in cities.items():\n",
    "    print(\"Name of city: \",key)\n",
    "    print(\"Information: \",value,\"\\n\")\n"
   ]
  },
  {
   "cell_type": "code",
   "execution_count": 3,
   "metadata": {},
   "outputs": [
    {
     "name": "stdout",
     "output_type": "stream",
     "text": [
      "Your Age: 13\n",
      "Ticket price is $15\n",
      "Do you want to Continue Press y for Yes & Press any keys for exit: y\n",
      "Your Age: 7\n",
      "Ticket price is $10\n",
      "Do you want to Continue Press y for Yes & Press any keys for exit: u\n",
      "Program is Terminate\n"
     ]
    }
   ],
   "source": [
    "#Question#03\n",
    "repeat = 'y'\n",
    "while repeat == 'y':\n",
    "    age = int(input(\"Your Age: \"))\n",
    "    if age < 3:\n",
    "        print(\"Ticket price is Free\")\n",
    "    elif age >= 3 and age <= 12:\n",
    "        print(\"Ticket price is $10\")\n",
    "    elif age > 12:\n",
    "        print(\"Ticket price is $15\")\n",
    "    else:\n",
    "        print(\"Invalid Input\")\n",
    "    repeat = input(\"Do you want to Continue Press y for Yes & Press any keys for exit: \")\n",
    "    if repeat != 'y':\n",
    "        print(\"Program is Terminate\")\n"
   ]
  },
  {
   "cell_type": "code",
   "execution_count": 6,
   "metadata": {},
   "outputs": [
    {
     "name": "stdout",
     "output_type": "stream",
     "text": [
      "Enter the Book's title: war and peace\n",
      "My favorite book is:  war and peace\n"
     ]
    }
   ],
   "source": [
    "#Question#04\n",
    "def favorite_book(book):\n",
    "    print(\"My favorite book is: \",book)\n",
    "book = input(\"Enter the Book's title: \")\n",
    "favorite_book(book)"
   ]
  },
  {
   "cell_type": "code",
   "execution_count": null,
   "metadata": {},
   "outputs": [
    {
     "name": "stdout",
     "output_type": "stream",
     "text": [
      "Enter the Guess Number: 20\n",
      "You Guess Higher Number\n",
      "Computer's Guess Number:  18\n",
      "Enter the Guess Number: 43\n",
      "You Guess Higher Number\n",
      "Computer's Guess Number:  27\n"
     ]
    }
   ],
   "source": [
    "#Question#05\n",
    "import random\n",
    "count = 0\n",
    "while count < 3:\n",
    "    guess = int(input(\"Enter the Guess Number: \"))\n",
    "    count += 1\n",
    "    rand = random.randint(1,30)\n",
    "    if guess == rand:\n",
    "        print(\"You Guess Correct Number\")\n",
    "    elif guess > rand:\n",
    "        print(\"You Guess Higher Number\")\n",
    "    elif guess < rand:\n",
    "        print(\"You Guess Lower Number\")\n",
    "    print(\"Computer's Guess Number: \",rand)\n"
   ]
  },
  {
   "cell_type": "code",
   "execution_count": null,
   "metadata": {},
   "outputs": [],
   "source": []
  },
  {
   "cell_type": "code",
   "execution_count": null,
   "metadata": {},
   "outputs": [],
   "source": []
  }
 ],
 "metadata": {
  "kernelspec": {
   "display_name": "Python 3",
   "language": "python",
   "name": "python3"
  },
  "language_info": {
   "codemirror_mode": {
    "name": "ipython",
    "version": 3
   },
   "file_extension": ".py",
   "mimetype": "text/x-python",
   "name": "python",
   "nbconvert_exporter": "python",
   "pygments_lexer": "ipython3",
   "version": "3.7.4"
  }
 },
 "nbformat": 4,
 "nbformat_minor": 2
}
