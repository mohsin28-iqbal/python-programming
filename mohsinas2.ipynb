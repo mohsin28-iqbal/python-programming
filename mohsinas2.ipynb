{
 "cells": [
  {
   "cell_type": "code",
   "execution_count": 1,
   "metadata": {},
   "outputs": [
    {
     "name": "stdout",
     "output_type": "stream",
     "text": [
      "Enter subject marks out of 100= 78\n",
      "Enter subject marks out of 100= 76\n",
      "Enter subject marks out of 100= 78\n",
      "Enter subject marks out of 100= 76\n",
      "Enter subject marks out of 100= 56\n",
      "Total Marks = 364\n",
      "Percentage = 72.8\n",
      "Grade C\n"
     ]
    }
   ],
   "source": [
    "#Question No 01\n",
    "marks=[]\n",
    "totalmarks=0;\n",
    "for i in range (5):\n",
    "    x=int(input(\"Enter subject marks out of 100= \"))\n",
    "    marks.append(x)\n",
    "    totalmarks=totalmarks+x\n",
    "print(\"Total Marks =\",totalmarks)  \n",
    "percentage=(totalmarks*100)/500\n",
    "print(\"Percentage =\",percentage)\n",
    "if percentage>=90:\n",
    "    print(\"Grade A\")\n",
    "elif percentage>=80:\n",
    "    print(\"Grade B\")\n",
    "elif percentage>=70:\n",
    "    print(\"Grade C\")    \n",
    "elif percentage>=60:\n",
    "    print(\"Grade D\") \n",
    "else:\n",
    "    print(\"fail\")"
   ]
  },
  {
   "cell_type": "code",
   "execution_count": 2,
   "metadata": {},
   "outputs": [
    {
     "name": "stdout",
     "output_type": "stream",
     "text": [
      "Enter number54\n",
      "Even No\n"
     ]
    }
   ],
   "source": [
    "#Question 02\n",
    "x=int(input(\"Enter number\"))\n",
    "if x%2==0:\n",
    "    print(\"Even No\")\n",
    "else:\n",
    "    print(\"Odd No\")"
   ]
  },
  {
   "cell_type": "code",
   "execution_count": 3,
   "metadata": {},
   "outputs": [
    {
     "name": "stdout",
     "output_type": "stream",
     "text": [
      "5\n"
     ]
    }
   ],
   "source": [
    "#Question 03\n",
    "list=[44,60,69,13,53]\n",
    "print(len(list))"
   ]
  },
  {
   "cell_type": "code",
   "execution_count": 4,
   "metadata": {},
   "outputs": [
    {
     "name": "stdout",
     "output_type": "stream",
     "text": [
      "Sum of list= 265\n"
     ]
    }
   ],
   "source": [
    "#Question 04\n",
    "list=[3,87,56,53,66]\n",
    "x=len(list)\n",
    "sum=0\n",
    "for i in range (x):\n",
    "    sum=sum+list[i]\n",
    "print(\"Sum of list=\",sum)"
   ]
  },
  {
   "cell_type": "code",
   "execution_count": 5,
   "metadata": {},
   "outputs": [
    {
     "name": "stdout",
     "output_type": "stream",
     "text": [
      "656\n"
     ]
    }
   ],
   "source": [
    "#Question 05\n",
    "list=[67,656,78,56,342,22]\n",
    "print(max(list))"
   ]
  },
  {
   "cell_type": "code",
   "execution_count": 6,
   "metadata": {},
   "outputs": [
    {
     "name": "stdout",
     "output_type": "stream",
     "text": [
      "1\n",
      "1\n",
      "2\n",
      "3\n"
     ]
    }
   ],
   "source": [
    "#Question 06\n",
    "list=[1,1,2,3,5,8,13,21,34,55,89]\n",
    "x=len(list)\n",
    "for i in range(x):\n",
    "    if list[i]<5:\n",
    "        print(list[i])"
   ]
  },
  {
   "cell_type": "code",
   "execution_count": null,
   "metadata": {},
   "outputs": [],
   "source": []
  }
 ],
 "metadata": {
  "kernelspec": {
   "display_name": "Python 3",
   "language": "python",
   "name": "python3"
  },
  "language_info": {
   "codemirror_mode": {
    "name": "ipython",
    "version": 3
   },
   "file_extension": ".py",
   "mimetype": "text/x-python",
   "name": "python",
   "nbconvert_exporter": "python",
   "pygments_lexer": "ipython3",
   "version": "3.7.4"
  }
 },
 "nbformat": 4,
 "nbformat_minor": 2
}
