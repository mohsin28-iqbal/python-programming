{
 "cells": [
  {
   "cell_type": "code",
   "execution_count": 18,
   "metadata": {},
   "outputs": [
    {
     "name": "stdout",
     "output_type": "stream",
     "text": [
      "SPECIFICATIONS AND PERFORMANCES OF CAR-A\n",
      "========================================\n",
      "HURACAN GT3-2015\n",
      "BLACK\n",
      "LAMBORGHINI\n",
      "2-DOOR COUPE\n",
      "602 HP\n",
      "10.6 kmpl\n",
      "Modified mileage is: 11.24 kmpl\n",
      "Modified Horse Power is: 631 HP\n",
      "\n",
      "\n",
      "SPECIFICATIONS AND PERFORMANCE OF CAR-B\n",
      "=======================================\n",
      "CHIRON NOIRE-2017\n",
      "DARK BLUE\n",
      "BUGATTI\n",
      "2-DOOR COUPE\n",
      "1479\n",
      "5.95 kmpl\n",
      "New Model is La Voiture Noire\n"
     ]
    }
   ],
   "source": [
    "class Car():\n",
    "    def __init__(self,model,color,company,body,horsepower):\n",
    "        self.model=model\n",
    "        self.color=color\n",
    "        self.company= company\n",
    "        self.body=body\n",
    "        self.horsepower=horsepower\n",
    "        self.mileage= \"10.6 kmpl\"\n",
    "        \n",
    "    #Methods    \n",
    "    def updatemil(self,newmil):\n",
    "        self.mileage=newmil\n",
    "    def updatehp(self,newhp):\n",
    "        self.horsepower=newhp\n",
    "    def updatemod(self,newmod):\n",
    "        self.model=newmod\n",
    "#CarA       \n",
    "carA=Car('HURACAN GT3-2015','BLACK','LAMBORGHINI','2-DOOR COUPE','602 HP')\n",
    "#print(carA)\n",
    "print('SPECIFICATIONS AND PERFORMANCES OF CAR-A')\n",
    "print('========================================')\n",
    "print(carA.model)\n",
    "print(carA.color)\n",
    "print(carA.company)\n",
    "print(carA.body)\n",
    "print(carA.horsepower)\n",
    "print(carA.mileage)\n",
    "carA.updatemil('11.24 kmpl')\n",
    "print('Modified mileage is:',carA.mileage)\n",
    "carA.updatehp('631 HP')\n",
    "print('Modified Horse Power is:',carA.horsepower)\n",
    "print('\\n')\n",
    "\n",
    "#CarB\n",
    "print('SPECIFICATIONS AND PERFORMANCE OF CAR-B')\n",
    "print('=======================================')\n",
    "carB=Car('CHIRON NOIRE-2017','DARK BLUE','BUGATTI','2-DOOR COUPE','1479')\n",
    "print(carB.model)\n",
    "print(carB.color)\n",
    "print(carB.company)\n",
    "print(carB.body)\n",
    "print(carB.horsepower)\n",
    "carB.mileage='5.95 kmpl'\n",
    "print(carB.mileage)\n",
    "carB.updatemod('La Voiture Noire')\n",
    "print('New Model is',carB.model)\n"
   ]
  },
  {
   "cell_type": "code",
   "execution_count": null,
   "metadata": {},
   "outputs": [],
   "source": []
  },
  {
   "cell_type": "code",
   "execution_count": null,
   "metadata": {},
   "outputs": [],
   "source": []
  },
  {
   "cell_type": "code",
   "execution_count": null,
   "metadata": {},
   "outputs": [],
   "source": []
  }
 ],
 "metadata": {
  "kernelspec": {
   "display_name": "Python 3",
   "language": "python",
   "name": "python3"
  },
  "language_info": {
   "codemirror_mode": {
    "name": "ipython",
    "version": 3
   },
   "file_extension": ".py",
   "mimetype": "text/x-python",
   "name": "python",
   "nbconvert_exporter": "python",
   "pygments_lexer": "ipython3",
   "version": "3.7.4"
  }
 },
 "nbformat": 4,
 "nbformat_minor": 2
}
