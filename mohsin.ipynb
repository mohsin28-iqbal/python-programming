{
 "cells": [
  {
   "cell_type": "code",
   "execution_count": 1,
   "metadata": {},
   "outputs": [
    {
     "name": "stdout",
     "output_type": "stream",
     "text": [
      "Enter 1st number  4\n",
      "Enter 2nd number  8\n",
      "Enter operator  /\n",
      "0.5\n"
     ]
    }
   ],
   "source": [
    "#Question 01\n",
    "m = int(input(\"Enter 1st number  \"))\n",
    "o = int( input(\"Enter 2nd number  \"))\n",
    "operator = input(\"Enter operator  \")\n",
    "\n",
    "if operator == \"*\":\n",
    "    print(m*o)\n",
    "    \n",
    "elif operator == '+':\n",
    "    print(m+o)\n",
    "\n",
    "elif operator == '-':\n",
    "    print(m-o)\n",
    "    \n",
    "elif operator == '/':\n",
    "    print(m/o)\n",
    "    \n",
    "elif operator == 'p':\n",
    "    print(m**o)"
   ]
  },
  {
   "cell_type": "code",
   "execution_count": 2,
   "metadata": {},
   "outputs": [
    {
     "name": "stdout",
     "output_type": "stream",
     "text": [
      "Numeric value is found = 69 At Index=1\n",
      "Numeric value is found = 55 At Index=3\n",
      "Numeric value is found = 70 At Index=5\n"
     ]
    }
   ],
   "source": [
    "#Question 02\n",
    "array = [\"moh\",69,\"aziz\",55,\"usfar\",70]\n",
    "for aa in array:\n",
    "    if type(aa) == int or type(aa) == float:\n",
    "        print(f\"Numeric value is found = {aa} At Index={array.index(aa)}\")\n"
   ]
  },
  {
   "cell_type": "code",
   "execution_count": 9,
   "metadata": {},
   "outputs": [
    {
     "name": "stdout",
     "output_type": "stream",
     "text": [
      "{'firstName': 'Mohsin', 'lastName': 'Sial'}\n",
      "{'firstName': 'Mohsin', 'lastName': 'Sial', 'mid': 'Iqbal'}\n"
     ]
    }
   ],
   "source": [
    "#Question 03\n",
    "naming = {\"firstName\":\"Mohsin\", \"lastName\":\"Sial\"}\n",
    "print(naming)\n",
    "\n",
    "naming.update({\"mid\":\"Iqbal\"})\n",
    "print(naming)\n"
   ]
  },
  {
   "cell_type": "code",
   "execution_count": 8,
   "metadata": {},
   "outputs": [
    {
     "name": "stdout",
     "output_type": "stream",
     "text": [
      "Sum of all numbers =  184\n"
     ]
    }
   ],
   "source": [
    "#Question 04\n",
    "def sumdic(moh):\n",
    "        sum = 0\n",
    "        for i in moh.values():\n",
    "            sum = sum + i\n",
    "        return sum\n",
    "\n",
    "nmoh = {0:45 , 1:69, 2:70 }\n",
    "\n",
    "print(\"Sum of all numbers = \",sumdic(nmoh))"
   ]
  },
  {
   "cell_type": "code",
   "execution_count": 14,
   "metadata": {},
   "outputs": [
    {
     "name": "stdout",
     "output_type": "stream",
     "text": [
      "Duplicate value is:   69\n",
      "Duplicate value is:   aziz\n",
      "['moh', 'aziz', 69, 'usar']\n"
     ]
    }
   ],
   "source": [
    "#Question 05\n",
    "lst1 = [\"moh\",\"aziz\",69,69,\"usar\",\"aziz\"]\n",
    "def dup(lst):\n",
    "    lst1dup = []\n",
    "    for val in lst:\n",
    "        if val not in lst1dup:\n",
    "            lst1dup.append(val)\n",
    "        elif val in lst1dup:\n",
    "            print(\"Duplicate value is:  \",val)\n",
    "    return lst1dup\n",
    "\n",
    "print(dup(lst1))"
   ]
  },
  {
   "cell_type": "code",
   "execution_count": 17,
   "metadata": {},
   "outputs": [
    {
     "name": "stdout",
     "output_type": "stream",
     "text": [
      "Key is not present in the dictionary\n",
      "Key is present in the dictionary\n",
      "Key is present in the dictionary\n"
     ]
    }
   ],
   "source": [
    "#Question 06\n",
    "dic = {\n",
    "    1: 20,\n",
    "    2: 30,\n",
    "    3: 40,\n",
    "    40: 50,\n",
    "    5: 60,\n",
    "    6: 70}\n",
    "def is_key_present(x):\n",
    "    if x in dic:\n",
    "        print('Key is present in the dictionary')\n",
    "    else: \n",
    "        print('Key is not present in the dictionary')\n",
    "            \n",
    "            \n",
    "is_key_present(8)\n",
    "is_key_present(40)\n",
    "is_key_present(2)\n"
   ]
  },
  {
   "cell_type": "code",
   "execution_count": null,
   "metadata": {},
   "outputs": [],
   "source": []
  }
 ],
 "metadata": {
  "kernelspec": {
   "display_name": "Python 3",
   "language": "python",
   "name": "python3"
  },
  "language_info": {
   "codemirror_mode": {
    "name": "ipython",
    "version": 3
   },
   "file_extension": ".py",
   "mimetype": "text/x-python",
   "name": "python",
   "nbconvert_exporter": "python",
   "pygments_lexer": "ipython3",
   "version": "3.7.4"
  }
 },
 "nbformat": 4,
 "nbformat_minor": 2
}
